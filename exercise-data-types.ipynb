{
 "cells": [
  {
   "cell_type": "markdown",
   "id": "2a5a140f",
   "metadata": {
    "papermill": {
     "duration": 0.005264,
     "end_time": "2025-08-17T11:14:02.715798",
     "exception": false,
     "start_time": "2025-08-17T11:14:02.710534",
     "status": "completed"
    },
    "tags": []
   },
   "source": [
    "**This notebook is an exercise in the [Intro to Programming](https://www.kaggle.com/learn/intro-to-programming) course.  You can reference the tutorial at [this link](https://www.kaggle.com/alexisbcook/data-types).**\n",
    "\n",
    "---\n"
   ]
  },
  {
   "cell_type": "markdown",
   "id": "b9ea2c37",
   "metadata": {
    "papermill": {
     "duration": 0.004426,
     "end_time": "2025-08-17T11:14:02.724950",
     "exception": false,
     "start_time": "2025-08-17T11:14:02.720524",
     "status": "completed"
    },
    "tags": []
   },
   "source": [
    "In the tutorial, you learned about four different data types: floats, integers, strings, and booleans.  In this exercise, you'll experiment with them.\n",
    "\n",
    "# Set up the notebook\n",
    "\n",
    "Run the next code cell without changes to set up the notebook."
   ]
  },
  {
   "cell_type": "code",
   "execution_count": 1,
   "id": "8371c117",
   "metadata": {
    "execution": {
     "iopub.execute_input": "2025-08-17T11:14:02.735406Z",
     "iopub.status.busy": "2025-08-17T11:14:02.735011Z",
     "iopub.status.idle": "2025-08-17T11:14:05.010757Z",
     "shell.execute_reply": "2025-08-17T11:14:05.009582Z"
    },
    "papermill": {
     "duration": 2.283415,
     "end_time": "2025-08-17T11:14:05.012982",
     "exception": false,
     "start_time": "2025-08-17T11:14:02.729567",
     "status": "completed"
    },
    "tags": []
   },
   "outputs": [
    {
     "name": "stdout",
     "output_type": "stream",
     "text": [
      "Setup complete.\n"
     ]
    }
   ],
   "source": [
    "# Set up the exercise\n",
    "from learntools.core import binder\n",
    "binder.bind(globals())\n",
    "from learntools.intro_to_programming.ex3 import *\n",
    "print('Setup complete.')"
   ]
  },
  {
   "cell_type": "markdown",
   "id": "03c61312",
   "metadata": {
    "papermill": {
     "duration": 0.004479,
     "end_time": "2025-08-17T11:14:05.022763",
     "exception": false,
     "start_time": "2025-08-17T11:14:05.018284",
     "status": "completed"
    },
    "tags": []
   },
   "source": [
    "# Question 1\n",
    "\n",
    "You have seen how to convert a float to an integer with the `int` function.  Try this out yourself by running the code cell below."
   ]
  },
  {
   "cell_type": "code",
   "execution_count": 2,
   "id": "3aa77155",
   "metadata": {
    "execution": {
     "iopub.execute_input": "2025-08-17T11:14:05.033624Z",
     "iopub.status.busy": "2025-08-17T11:14:05.033118Z",
     "iopub.status.idle": "2025-08-17T11:14:05.039580Z",
     "shell.execute_reply": "2025-08-17T11:14:05.038326Z"
    },
    "papermill": {
     "duration": 0.013623,
     "end_time": "2025-08-17T11:14:05.041107",
     "exception": false,
     "start_time": "2025-08-17T11:14:05.027484",
     "status": "completed"
    },
    "tags": []
   },
   "outputs": [
    {
     "name": "stdout",
     "output_type": "stream",
     "text": [
      "1.0\n",
      "<class 'float'>\n",
      "1\n",
      "<class 'int'>\n"
     ]
    }
   ],
   "source": [
    "# Define a float\n",
    "y = 1.\n",
    "print(y)\n",
    "print(type(y))\n",
    "\n",
    "# Convert float to integer with the int function\n",
    "z = int(y)\n",
    "print(z)\n",
    "print(type(z))"
   ]
  },
  {
   "cell_type": "markdown",
   "id": "d32ab8c6",
   "metadata": {
    "papermill": {
     "duration": 0.004859,
     "end_time": "2025-08-17T11:14:05.050890",
     "exception": false,
     "start_time": "2025-08-17T11:14:05.046031",
     "status": "completed"
    },
    "tags": []
   },
   "source": [
    "In this case, the float you are using has no numbers after the decimal.  \n",
    "- But what happens when you try to convert a float with a fractional part to an integer?  \n",
    "- How does the outcome of the `int` function change for positive and negative numbers?\n",
    "\n",
    "Use the next code cell to investigate and answer these questions.  Feel free to add or remove any lines of code -- it is your workspace!"
   ]
  },
  {
   "cell_type": "code",
   "execution_count": 3,
   "id": "1506bacb",
   "metadata": {
    "execution": {
     "iopub.execute_input": "2025-08-17T11:14:05.064282Z",
     "iopub.status.busy": "2025-08-17T11:14:05.063343Z",
     "iopub.status.idle": "2025-08-17T11:14:05.069519Z",
     "shell.execute_reply": "2025-08-17T11:14:05.068250Z"
    },
    "papermill": {
     "duration": 0.013941,
     "end_time": "2025-08-17T11:14:05.071062",
     "exception": false,
     "start_time": "2025-08-17T11:14:05.057121",
     "status": "completed"
    },
    "tags": []
   },
   "outputs": [
    {
     "name": "stdout",
     "output_type": "stream",
     "text": [
      "1\n",
      "1\n",
      "-3\n",
      "-2\n"
     ]
    }
   ],
   "source": [
    "# Uncomment and run this code to get started!\n",
    "print(int(1.2321))\n",
    "print(int(1.747))\n",
    "print(int(-3.94535))\n",
    "print(int(-2.19774))"
   ]
  },
  {
   "cell_type": "markdown",
   "id": "7512a6c5",
   "metadata": {
    "papermill": {
     "duration": 0.004988,
     "end_time": "2025-08-17T11:14:05.081322",
     "exception": false,
     "start_time": "2025-08-17T11:14:05.076334",
     "status": "completed"
    },
    "tags": []
   },
   "source": [
    "Once you have an answer, run the code cell below to see the solution.  Viewing the solution will give you credit for answering the problem."
   ]
  },
  {
   "cell_type": "code",
   "execution_count": 4,
   "id": "bb54326b",
   "metadata": {
    "execution": {
     "iopub.execute_input": "2025-08-17T11:14:05.091960Z",
     "iopub.status.busy": "2025-08-17T11:14:05.091661Z",
     "iopub.status.idle": "2025-08-17T11:14:05.099941Z",
     "shell.execute_reply": "2025-08-17T11:14:05.098938Z"
    },
    "papermill": {
     "duration": 0.015627,
     "end_time": "2025-08-17T11:14:05.101594",
     "exception": false,
     "start_time": "2025-08-17T11:14:05.085967",
     "status": "completed"
    },
    "tags": []
   },
   "outputs": [
    {
     "data": {
      "application/javascript": [
       "parent.postMessage({\"jupyterEvent\": \"custom.exercise_interaction\", \"data\": {\"outcomeType\": 1, \"valueTowardsCompletion\": 0.2, \"interactionType\": 1, \"questionType\": 4, \"questionId\": \"1_FloatToInt\", \"learnToolsVersion\": \"0.3.5\", \"failureMessage\": \"\", \"exceptionClass\": \"\", \"trace\": \"\"}}, \"*\")"
      ],
      "text/plain": [
       "<IPython.core.display.Javascript object>"
      ]
     },
     "metadata": {},
     "output_type": "display_data"
    },
    {
     "data": {
      "text/markdown": [
       "<span style=\"color:#33cc33\">Correct:</span> \n",
       "\n",
       "Negative floats are always rounded UP to the closest integer (for instance, both -1.1 and -1.9 are rounded up to -1). Positive floats are always rounded DOWN to the closest integer (for instance, 2.1 and 2.9 are rounded down to 2)."
      ],
      "text/plain": [
       "Correct: \n",
       "\n",
       "Negative floats are always rounded UP to the closest integer (for instance, both -1.1 and -1.9 are rounded up to -1). Positive floats are always rounded DOWN to the closest integer (for instance, 2.1 and 2.9 are rounded down to 2)."
      ]
     },
     "metadata": {},
     "output_type": "display_data"
    }
   ],
   "source": [
    "# Check your answer (Run this code cell to receive credit!)\n",
    "q1.check()"
   ]
  },
  {
   "cell_type": "markdown",
   "id": "7952ca89",
   "metadata": {
    "papermill": {
     "duration": 0.004583,
     "end_time": "2025-08-17T11:14:05.111242",
     "exception": false,
     "start_time": "2025-08-17T11:14:05.106659",
     "status": "completed"
    },
    "tags": []
   },
   "source": [
    "# Question 2\n",
    "\n",
    "In the tutorial, you learned about booleans (which can take a value of `True` or `False`), in addition to integers, floats, and strings.  For this question, your goal is to determine what happens when you multiply a boolean by any of these data types.  Specifically, \n",
    "- What happens when you multiply an integer or float by `True`?  What happens when you multiply them by `False`?  How does the answer change if the numbers are positive or negative?\n",
    "- What happens when you multiply a string by `True`?  By `False`?\n",
    "\n",
    "Use the next code cell for your investigation. "
   ]
  },
  {
   "cell_type": "code",
   "execution_count": 5,
   "id": "2970f1bd",
   "metadata": {
    "execution": {
     "iopub.execute_input": "2025-08-17T11:14:05.122890Z",
     "iopub.status.busy": "2025-08-17T11:14:05.121917Z",
     "iopub.status.idle": "2025-08-17T11:14:05.128903Z",
     "shell.execute_reply": "2025-08-17T11:14:05.127460Z"
    },
    "papermill": {
     "duration": 0.014759,
     "end_time": "2025-08-17T11:14:05.130804",
     "exception": false,
     "start_time": "2025-08-17T11:14:05.116045",
     "status": "completed"
    },
    "tags": []
   },
   "outputs": [
    {
     "name": "stdout",
     "output_type": "stream",
     "text": [
      "3\n",
      "-3.1\n",
      "<class 'str'>\n",
      "0\n"
     ]
    }
   ],
   "source": [
    "# Uncomment and run this code to get started!\n",
    "print(3 * True)\n",
    "print(-3.1 * True)\n",
    "print(type(\"abc\" * False))\n",
    "print(len(\"abc\" * False))"
   ]
  },
  {
   "cell_type": "markdown",
   "id": "ca76c916",
   "metadata": {
    "papermill": {
     "duration": 0.004775,
     "end_time": "2025-08-17T11:14:05.141953",
     "exception": false,
     "start_time": "2025-08-17T11:14:05.137178",
     "status": "completed"
    },
    "tags": []
   },
   "source": [
    "Once you have an answer, run the code cell below to see the solution.  Viewing the solution will give you credit for answering the problem."
   ]
  },
  {
   "cell_type": "code",
   "execution_count": 6,
   "id": "a4cf593d",
   "metadata": {
    "execution": {
     "iopub.execute_input": "2025-08-17T11:14:05.153162Z",
     "iopub.status.busy": "2025-08-17T11:14:05.152853Z",
     "iopub.status.idle": "2025-08-17T11:14:05.160777Z",
     "shell.execute_reply": "2025-08-17T11:14:05.159634Z"
    },
    "papermill": {
     "duration": 0.015549,
     "end_time": "2025-08-17T11:14:05.162381",
     "exception": false,
     "start_time": "2025-08-17T11:14:05.146832",
     "status": "completed"
    },
    "tags": []
   },
   "outputs": [
    {
     "data": {
      "application/javascript": [
       "parent.postMessage({\"jupyterEvent\": \"custom.exercise_interaction\", \"data\": {\"outcomeType\": 1, \"valueTowardsCompletion\": 0.2, \"interactionType\": 1, \"questionType\": 4, \"questionId\": \"2_MultiplyBooleans\", \"learnToolsVersion\": \"0.3.5\", \"failureMessage\": \"\", \"exceptionClass\": \"\", \"trace\": \"\"}}, \"*\")"
      ],
      "text/plain": [
       "<IPython.core.display.Javascript object>"
      ]
     },
     "metadata": {},
     "output_type": "display_data"
    },
    {
     "data": {
      "text/markdown": [
       "<span style=\"color:#33cc33\">Correct:</span> \n",
       "\n",
       "When you multiple an integer or float by a boolean with value `True`, it just returns that same integer or float (and is equivalent to multiplying by 1).  If you multiply an integer or float by a boolean with value `False`, it always returns 0.  This is true for both positive and negative numbers.  If you multiply a string by a boolean with value `True`, it just returns that same string.  And if you multiply a string by a boolean with value `False`, it returns an empty string (or a string with length zero)."
      ],
      "text/plain": [
       "Correct: \n",
       "\n",
       "When you multiple an integer or float by a boolean with value `True`, it just returns that same integer or float (and is equivalent to multiplying by 1).  If you multiply an integer or float by a boolean with value `False`, it always returns 0.  This is true for both positive and negative numbers.  If you multiply a string by a boolean with value `True`, it just returns that same string.  And if you multiply a string by a boolean with value `False`, it returns an empty string (or a string with length zero)."
      ]
     },
     "metadata": {},
     "output_type": "display_data"
    }
   ],
   "source": [
    "# Check your answer (Run this code cell to receive credit!)\n",
    "q2.check()"
   ]
  },
  {
   "cell_type": "markdown",
   "id": "2cbe6785",
   "metadata": {
    "papermill": {
     "duration": 0.004837,
     "end_time": "2025-08-17T11:14:05.172710",
     "exception": false,
     "start_time": "2025-08-17T11:14:05.167873",
     "status": "completed"
    },
    "tags": []
   },
   "source": [
    "# Question 3\n",
    "\n",
    "In this question, you will build off your work from the previous exercise to write a function that estimates the value of a house.\n",
    "\n",
    "Use the next code cell to create a function `get_expected_cost` that takes as input three variables:\n",
    "- `beds` - number of bedrooms (data type float)\n",
    "- `baths` - number of bathrooms (data type float)\n",
    "- `has_basement` - whether or not the house has a basement (data type boolean)\n",
    "\n",
    "It should return the expected cost of a house with those characteristics. Assume that:\n",
    "- the expected cost for a house with 0 bedrooms and 0 bathrooms, and no basement is 80000, \n",
    "- each bedroom adds 30000 to the expected cost,\n",
    "- each bathroom adds 10000 to the expected cost, and\n",
    "- a basement adds 40000 to the expected cost.\n",
    "\n",
    "For instance,\n",
    "- a house with 1 bedroom, 1 bathroom, and no basement has an expected cost of 80000 + 30000 + 10000 = 120000.  This value will be calculated with `get_expected_cost(1, 1, False)`.\n",
    "- a house with 2 bedrooms, 1 bathroom, and a basement has an expected cost of 80000 + 2*30000 + 10000 + 40000 = 190000.  This value will be calculated with `get_expected_cost(2, 1, True)`.\n",
    "\n",
    "Remember you can always get a hint by uncommenting `q3.hint()` in the code cell following the next!"
   ]
  },
  {
   "cell_type": "code",
   "execution_count": 7,
   "id": "484ebb9f",
   "metadata": {
    "execution": {
     "iopub.execute_input": "2025-08-17T11:14:05.184135Z",
     "iopub.status.busy": "2025-08-17T11:14:05.183733Z",
     "iopub.status.idle": "2025-08-17T11:14:05.192759Z",
     "shell.execute_reply": "2025-08-17T11:14:05.191629Z"
    },
    "papermill": {
     "duration": 0.016408,
     "end_time": "2025-08-17T11:14:05.194188",
     "exception": false,
     "start_time": "2025-08-17T11:14:05.177780",
     "status": "completed"
    },
    "tags": []
   },
   "outputs": [
    {
     "data": {
      "application/javascript": [
       "parent.postMessage({\"jupyterEvent\": \"custom.exercise_interaction\", \"data\": {\"outcomeType\": 1, \"valueTowardsCompletion\": 0.2, \"interactionType\": 1, \"questionType\": 2, \"questionId\": \"3_EstimateHouseValueBool\", \"learnToolsVersion\": \"0.3.5\", \"failureMessage\": \"\", \"exceptionClass\": \"\", \"trace\": \"\"}}, \"*\")"
      ],
      "text/plain": [
       "<IPython.core.display.Javascript object>"
      ]
     },
     "metadata": {},
     "output_type": "display_data"
    },
    {
     "data": {
      "text/markdown": [
       "<span style=\"color:#33cc33\">Correct</span>"
      ],
      "text/plain": [
       "Correct"
      ]
     },
     "metadata": {},
     "output_type": "display_data"
    }
   ],
   "source": [
    "# TODO: Complete the function\n",
    "def get_expected_cost(beds, baths, has_basement):\n",
    "    value = 80000 + beds * 30000 + baths * 10000\n",
    "    if has_basement:\n",
    "        value = value + 40000\n",
    "    return value\n",
    "\n",
    "# Check your answer \n",
    "q3.check()"
   ]
  },
  {
   "cell_type": "code",
   "execution_count": 8,
   "id": "64a255dc",
   "metadata": {
    "execution": {
     "iopub.execute_input": "2025-08-17T11:14:05.208325Z",
     "iopub.status.busy": "2025-08-17T11:14:05.207352Z",
     "iopub.status.idle": "2025-08-17T11:14:05.212137Z",
     "shell.execute_reply": "2025-08-17T11:14:05.211022Z"
    },
    "papermill": {
     "duration": 0.013707,
     "end_time": "2025-08-17T11:14:05.214025",
     "exception": false,
     "start_time": "2025-08-17T11:14:05.200318",
     "status": "completed"
    },
    "tags": []
   },
   "outputs": [],
   "source": [
    "# Uncomment to see a hint\n",
    "#q3.hint()\n",
    "\n",
    "# Uncomment to view the solution\n",
    "#q3.solution()"
   ]
  },
  {
   "cell_type": "markdown",
   "id": "534b6b8f",
   "metadata": {
    "papermill": {
     "duration": 0.00508,
     "end_time": "2025-08-17T11:14:05.226984",
     "exception": false,
     "start_time": "2025-08-17T11:14:05.221904",
     "status": "completed"
    },
    "tags": []
   },
   "source": [
    "# Question 4\n",
    "\n",
    "We'll continue our study of boolean arithmetic.  For this question, your task is to provide a description of what happpens when you add booleans. \n",
    "\n",
    "Use the next code cell for your investigation.  Feel free to add or remove any lines of code - use it as your workspace!"
   ]
  },
  {
   "cell_type": "code",
   "execution_count": 9,
   "id": "592a0372",
   "metadata": {
    "execution": {
     "iopub.execute_input": "2025-08-17T11:14:05.238832Z",
     "iopub.status.busy": "2025-08-17T11:14:05.238525Z",
     "iopub.status.idle": "2025-08-17T11:14:05.244606Z",
     "shell.execute_reply": "2025-08-17T11:14:05.243293Z"
    },
    "papermill": {
     "duration": 0.014185,
     "end_time": "2025-08-17T11:14:05.246534",
     "exception": false,
     "start_time": "2025-08-17T11:14:05.232349",
     "status": "completed"
    },
    "tags": []
   },
   "outputs": [
    {
     "name": "stdout",
     "output_type": "stream",
     "text": [
      "0\n",
      "1\n",
      "1\n",
      "2\n",
      "3\n"
     ]
    }
   ],
   "source": [
    "print(False + False)\n",
    "print(True + False)\n",
    "print(False + True)\n",
    "print(True + True)\n",
    "print(False + True + True + True)"
   ]
  },
  {
   "cell_type": "markdown",
   "id": "cf888eb7",
   "metadata": {
    "papermill": {
     "duration": 0.006068,
     "end_time": "2025-08-17T11:14:05.258856",
     "exception": false,
     "start_time": "2025-08-17T11:14:05.252788",
     "status": "completed"
    },
    "tags": []
   },
   "source": [
    "Once you have an answer, run the code cell below to see the solution.  Viewing the solution will give you credit for answering the problem."
   ]
  },
  {
   "cell_type": "code",
   "execution_count": 10,
   "id": "185f3084",
   "metadata": {
    "execution": {
     "iopub.execute_input": "2025-08-17T11:14:05.275995Z",
     "iopub.status.busy": "2025-08-17T11:14:05.275650Z",
     "iopub.status.idle": "2025-08-17T11:14:05.283824Z",
     "shell.execute_reply": "2025-08-17T11:14:05.282291Z"
    },
    "papermill": {
     "duration": 0.018918,
     "end_time": "2025-08-17T11:14:05.285778",
     "exception": false,
     "start_time": "2025-08-17T11:14:05.266860",
     "status": "completed"
    },
    "tags": []
   },
   "outputs": [
    {
     "data": {
      "application/javascript": [
       "parent.postMessage({\"jupyterEvent\": \"custom.exercise_interaction\", \"data\": {\"outcomeType\": 1, \"valueTowardsCompletion\": 0.2, \"interactionType\": 1, \"questionType\": 4, \"questionId\": \"4_AddingBooleans\", \"learnToolsVersion\": \"0.3.5\", \"failureMessage\": \"\", \"exceptionClass\": \"\", \"trace\": \"\"}}, \"*\")"
      ],
      "text/plain": [
       "<IPython.core.display.Javascript object>"
      ]
     },
     "metadata": {},
     "output_type": "display_data"
    },
    {
     "data": {
      "text/markdown": [
       "<span style=\"color:#33cc33\">Correct:</span> \n",
       "\n",
       "When you add booleans, adding `False` is equivalent to adding 0, and adding `True` is equivalent to adding 1."
      ],
      "text/plain": [
       "Correct: \n",
       "\n",
       "When you add booleans, adding `False` is equivalent to adding 0, and adding `True` is equivalent to adding 1."
      ]
     },
     "metadata": {},
     "output_type": "display_data"
    }
   ],
   "source": [
    "# Check your answer (Run this code cell to receive credit!)\n",
    "q4.check()"
   ]
  },
  {
   "cell_type": "markdown",
   "id": "1bd3ef6d",
   "metadata": {
    "papermill": {
     "duration": 0.005447,
     "end_time": "2025-08-17T11:14:05.297179",
     "exception": false,
     "start_time": "2025-08-17T11:14:05.291732",
     "status": "completed"
    },
    "tags": []
   },
   "source": [
    "# 🌶️ Question 5\n",
    "\n",
    "You own an online shop where you sell rings with custom engravings.  You offer both gold plated and solid gold rings.\n",
    "- Gold plated rings have a base cost of \\\\$50, and you charge \\\\$7 per engraved unit.  \n",
    "- Solid gold rings have a base cost of \\\\$100, and you charge \\\\$10 per engraved unit.\n",
    "- Spaces and punctuation are counted as engraved units.\n",
    "\n",
    "Write a function `cost_of_project()` that takes two arguments:\n",
    "- `engraving` - a Python string with the text of the engraving\n",
    "- `solid_gold` - a Boolean that indicates whether the ring is solid gold\n",
    "\n",
    "It should return the cost of the project.  This question should be fairly challenging, and you may need a hint."
   ]
  },
  {
   "cell_type": "code",
   "execution_count": 11,
   "id": "172356f2",
   "metadata": {
    "execution": {
     "iopub.execute_input": "2025-08-17T11:14:05.310868Z",
     "iopub.status.busy": "2025-08-17T11:14:05.310540Z",
     "iopub.status.idle": "2025-08-17T11:14:05.319313Z",
     "shell.execute_reply": "2025-08-17T11:14:05.318201Z"
    },
    "papermill": {
     "duration": 0.018461,
     "end_time": "2025-08-17T11:14:05.321556",
     "exception": false,
     "start_time": "2025-08-17T11:14:05.303095",
     "status": "completed"
    },
    "tags": []
   },
   "outputs": [
    {
     "data": {
      "application/javascript": [
       "parent.postMessage({\"jupyterEvent\": \"custom.exercise_interaction\", \"data\": {\"outcomeType\": 1, \"valueTowardsCompletion\": 0.2, \"interactionType\": 1, \"questionType\": 2, \"questionId\": \"5_CustomEngravings\", \"learnToolsVersion\": \"0.3.5\", \"failureMessage\": \"\", \"exceptionClass\": \"\", \"trace\": \"\"}}, \"*\")"
      ],
      "text/plain": [
       "<IPython.core.display.Javascript object>"
      ]
     },
     "metadata": {},
     "output_type": "display_data"
    },
    {
     "data": {
      "text/markdown": [
       "<span style=\"color:#33cc33\">Correct</span>"
      ],
      "text/plain": [
       "Correct"
      ]
     },
     "metadata": {},
     "output_type": "display_data"
    }
   ],
   "source": [
    "def cost_of_project(engraving, solid_gold):\n",
    "    cost = solid_gold * (100 + 10 * len(engraving))+ (not solid_gold) * (50 + 7 * len(engraving))\n",
    "    return cost\n",
    "\n",
    "# Check your answer\n",
    "q5.check()"
   ]
  },
  {
   "cell_type": "code",
   "execution_count": 12,
   "id": "cf095f61",
   "metadata": {
    "execution": {
     "iopub.execute_input": "2025-08-17T11:14:05.334646Z",
     "iopub.status.busy": "2025-08-17T11:14:05.334363Z",
     "iopub.status.idle": "2025-08-17T11:14:05.342434Z",
     "shell.execute_reply": "2025-08-17T11:14:05.341376Z"
    },
    "papermill": {
     "duration": 0.016283,
     "end_time": "2025-08-17T11:14:05.344039",
     "exception": false,
     "start_time": "2025-08-17T11:14:05.327756",
     "status": "completed"
    },
    "tags": []
   },
   "outputs": [
    {
     "data": {
      "application/javascript": [
       "parent.postMessage({\"jupyterEvent\": \"custom.exercise_interaction\", \"data\": {\"interactionType\": 3, \"questionType\": 2, \"questionId\": \"5_CustomEngravings\", \"learnToolsVersion\": \"0.3.5\", \"valueTowardsCompletion\": 0.0, \"failureMessage\": \"\", \"exceptionClass\": \"\", \"trace\": \"\", \"outcomeType\": 4}}, \"*\")"
      ],
      "text/plain": [
       "<IPython.core.display.Javascript object>"
      ]
     },
     "metadata": {},
     "output_type": "display_data"
    },
    {
     "data": {
      "text/markdown": [
       "<span style=\"color:#33cc99\">Solution:</span> \n",
       "```python\n",
       "def cost_of_project(engraving, solid_gold):\n",
       "    cost = solid_gold * (100 + 10 * len(engraving)) + (not solid_gold) * (50 + 7 * len(engraving))\n",
       "    return cost\n",
       "\n",
       "```"
      ],
      "text/plain": [
       "Solution: \n",
       "```python\n",
       "def cost_of_project(engraving, solid_gold):\n",
       "    cost = solid_gold * (100 + 10 * len(engraving)) + (not solid_gold) * (50 + 7 * len(engraving))\n",
       "    return cost\n",
       "\n",
       "```"
      ]
     },
     "metadata": {},
     "output_type": "display_data"
    }
   ],
   "source": [
    "# Uncomment to see a hint\n",
    "#q5.hint()\n",
    "\n",
    "# Uncomment to view the solution\n",
    "q5.solution()"
   ]
  },
  {
   "cell_type": "markdown",
   "id": "90b50dea",
   "metadata": {
    "papermill": {
     "duration": 0.005595,
     "end_time": "2025-08-17T11:14:05.355735",
     "exception": false,
     "start_time": "2025-08-17T11:14:05.350140",
     "status": "completed"
    },
    "tags": []
   },
   "source": [
    "Run the next code cell to calculate the cost of engraving `Charlie+Denver` on a solid gold ring."
   ]
  },
  {
   "cell_type": "code",
   "execution_count": 13,
   "id": "fdfb744a",
   "metadata": {
    "execution": {
     "iopub.execute_input": "2025-08-17T11:14:05.369123Z",
     "iopub.status.busy": "2025-08-17T11:14:05.368845Z",
     "iopub.status.idle": "2025-08-17T11:14:05.373939Z",
     "shell.execute_reply": "2025-08-17T11:14:05.372704Z"
    },
    "papermill": {
     "duration": 0.013668,
     "end_time": "2025-08-17T11:14:05.375620",
     "exception": false,
     "start_time": "2025-08-17T11:14:05.361952",
     "status": "completed"
    },
    "tags": []
   },
   "outputs": [
    {
     "name": "stdout",
     "output_type": "stream",
     "text": [
      "240\n"
     ]
    }
   ],
   "source": [
    "project_one = cost_of_project(\"Charlie+Denver\", True)\n",
    "print(project_one)"
   ]
  },
  {
   "cell_type": "markdown",
   "id": "46d32dec",
   "metadata": {
    "papermill": {
     "duration": 0.005735,
     "end_time": "2025-08-17T11:14:05.387603",
     "exception": false,
     "start_time": "2025-08-17T11:14:05.381868",
     "status": "completed"
    },
    "tags": []
   },
   "source": [
    "Use the next code cell to calculate the cost of engraving `08/10/2000` on a gold plated ring."
   ]
  },
  {
   "cell_type": "code",
   "execution_count": 14,
   "id": "de46961a",
   "metadata": {
    "execution": {
     "iopub.execute_input": "2025-08-17T11:14:05.401400Z",
     "iopub.status.busy": "2025-08-17T11:14:05.400985Z",
     "iopub.status.idle": "2025-08-17T11:14:05.406769Z",
     "shell.execute_reply": "2025-08-17T11:14:05.405580Z"
    },
    "papermill": {
     "duration": 0.014921,
     "end_time": "2025-08-17T11:14:05.408586",
     "exception": false,
     "start_time": "2025-08-17T11:14:05.393665",
     "status": "completed"
    },
    "tags": []
   },
   "outputs": [
    {
     "name": "stdout",
     "output_type": "stream",
     "text": [
      "120\n"
     ]
    }
   ],
   "source": [
    "project_two = cost_of_project(\"08/10/2000\", False)\n",
    "print(project_two)"
   ]
  },
  {
   "cell_type": "markdown",
   "id": "93f4fa03",
   "metadata": {
    "papermill": {
     "duration": 0.005844,
     "end_time": "2025-08-17T11:14:05.420711",
     "exception": false,
     "start_time": "2025-08-17T11:14:05.414867",
     "status": "completed"
    },
    "tags": []
   },
   "source": [
    "# Keep going\n",
    "\n",
    "Continue to the next lesson to **[learn about conditions and conditional statements](https://www.kaggle.com/alexisbcook/conditions-and-conditional-statements)**."
   ]
  },
  {
   "cell_type": "markdown",
   "id": "cf80fa1b",
   "metadata": {
    "papermill": {
     "duration": 0.005766,
     "end_time": "2025-08-17T11:14:05.433530",
     "exception": false,
     "start_time": "2025-08-17T11:14:05.427764",
     "status": "completed"
    },
    "tags": []
   },
   "source": [
    "---\n",
    "\n",
    "\n",
    "\n",
    "\n",
    "*Have questions or comments? Visit the [course discussion forum](https://www.kaggle.com/learn/intro-to-programming/discussion) to chat with other learners.*"
   ]
  }
 ],
 "metadata": {
  "kaggle": {
   "accelerator": "none",
   "dataSources": [],
   "isGpuEnabled": false,
   "isInternetEnabled": false,
   "language": "python",
   "sourceType": "notebook"
  },
  "kernelspec": {
   "display_name": "Python 3",
   "language": "python",
   "name": "python3"
  },
  "language_info": {
   "codemirror_mode": {
    "name": "ipython",
    "version": 3
   },
   "file_extension": ".py",
   "mimetype": "text/x-python",
   "name": "python",
   "nbconvert_exporter": "python",
   "pygments_lexer": "ipython3",
   "version": "3.11.13"
  },
  "papermill": {
   "default_parameters": {},
   "duration": 8.773927,
   "end_time": "2025-08-17T11:14:06.061204",
   "environment_variables": {},
   "exception": null,
   "input_path": "__notebook__.ipynb",
   "output_path": "__notebook__.ipynb",
   "parameters": {},
   "start_time": "2025-08-17T11:13:57.287277",
   "version": "2.3.3"
  }
 },
 "nbformat": 4,
 "nbformat_minor": 5
}
